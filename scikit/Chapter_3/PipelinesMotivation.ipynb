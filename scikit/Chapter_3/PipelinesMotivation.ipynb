{
 "cells": [
  {
   "cell_type": "code",
   "execution_count": 1,
   "metadata": {
    "collapsed": true
   },
   "outputs": [],
   "source": [
    "import matplotlib.pyplot as plt\n",
    "import numpy as np\n",
    "%matplotlib inline"
   ]
  },
  {
   "cell_type": "markdown",
   "metadata": {},
   "source": [
    "# Why pipelines for preprocessing\n",
    "\n",
    "- It's important to keep in mind to not apply cross-validation only to the last step, but to the whole process\n",
    "- To do this, you use Pipelines"
   ]
  },
  {
   "cell_type": "code",
   "execution_count": 2,
   "metadata": {
    "collapsed": false
   },
   "outputs": [
    {
     "name": "stdout",
     "output_type": "stream",
     "text": [
      "(100, 100)\n"
     ]
    }
   ],
   "source": [
    "# Create a senthetic regression dataset\n",
    "from sklearn.datasets import make_regression\n",
    "\n",
    "X, y = make_regression(random_state=42, noise=100)\n",
    "print(X.shape)"
   ]
  },
  {
   "cell_type": "code",
   "execution_count": 3,
   "metadata": {
    "collapsed": false
   },
   "outputs": [
    {
     "name": "stderr",
     "output_type": "stream",
     "text": [
      "//anaconda/lib/python3.5/site-packages/sklearn/cross_validation.py:44: DeprecationWarning: This module was deprecated in version 0.18 in favor of the model_selection module into which all the refactored classes and functions are moved. Also note that the interface of the new CV iterators are different from that of this module. This module will be removed in 0.20.\n",
      "  \"This module will be removed in 0.20.\", DeprecationWarning)\n"
     ]
    }
   ],
   "source": [
    "# Split the dataset\n",
    "from sklearn.cross_validation import train_test_split\n",
    "\n",
    "X_train, X_test, y_train, y_test = train_test_split(X, y, random_state=42, train_size=.5)"
   ]
  },
  {
   "cell_type": "code",
   "execution_count": 4,
   "metadata": {
    "collapsed": false
   },
   "outputs": [
    {
     "name": "stdout",
     "output_type": "stream",
     "text": [
      "(50, 6)\n"
     ]
    }
   ],
   "source": [
    "# Feature selection\n",
    "from sklearn.feature_selection import SelectFpr, f_regression\n",
    "from sklearn.linear_model import Ridge\n",
    "\n",
    "# Look at each feature individually, and run a statistical test to see how related each feature is with the response\n",
    "# SelectFpr controls the false positive rate\n",
    "fpr = SelectFpr(score_func=f_regression, alpha=.05)\n",
    "fpr.fit(X_train, y_train)\n",
    "\n",
    "# Fit the data\n",
    "X_train_fpr = fpr.transform(X_train)\n",
    "X_test_fpr = fpr.transform(X_test)\n",
    "\n",
    "# Select only the features that are correlated\n",
    "print(X_train_fpr.shape)"
   ]
  },
  {
   "cell_type": "code",
   "execution_count": 5,
   "metadata": {
    "collapsed": false
   },
   "outputs": [
    {
     "data": {
      "text/plain": [
       "0.40868089541721303"
      ]
     },
     "execution_count": 5,
     "metadata": {},
     "output_type": "execute_result"
    }
   ],
   "source": [
    "# Train a Ridge model with the selected features\n",
    "ridge = Ridge()\n",
    "ridge.fit(X_train_fpr, y_train)\n",
    "ridge.score(X_test_fpr, y_test)"
   ]
  },
  {
   "cell_type": "markdown",
   "metadata": {},
   "source": [
    "## How not to do grid-searches\n"
   ]
  },
  {
   "cell_type": "code",
   "execution_count": 8,
   "metadata": {
    "collapsed": false
   },
   "outputs": [
    {
     "name": "stdout",
     "output_type": "stream",
     "text": [
      "test set accuracy: 0.41\n"
     ]
    }
   ],
   "source": [
    "# DON'T DO THIS:\n",
    "# This is called contamination\n",
    "# We already used true labels in the validation fold, leaked data \n",
    "\n",
    "from sklearn.model_selection import GridSearchCV\n",
    "param_grid = {'alpha': 10. ** np.arange(-3, 5)}\n",
    "grid = GridSearchCV(ridge, param_grid, cv=5)\n",
    "grid.fit(X_train_fpr, y_train)\n",
    "print(\"test set accuracy: %.2f\" % grid.score(X_test_fpr, y_test))"
   ]
  },
  {
   "cell_type": "markdown",
   "metadata": {},
   "source": [
    "## A more extreme example"
   ]
  },
  {
   "cell_type": "code",
   "execution_count": 9,
   "metadata": {
    "collapsed": false
   },
   "outputs": [],
   "source": [
    "rng = np.random.RandomState(0)\n",
    "y = rng.rand(X.shape[0])\n",
    "X_train, X_test, y_train, y_test = train_test_split(X, y, random_state=0, train_size=.6)"
   ]
  },
  {
   "cell_type": "code",
   "execution_count": 10,
   "metadata": {
    "collapsed": false
   },
   "outputs": [
    {
     "data": {
      "text/plain": [
       "(60, 7)"
      ]
     },
     "execution_count": 10,
     "metadata": {},
     "output_type": "execute_result"
    }
   ],
   "source": [
    "from sklearn.feature_selection import SelectKBest\n",
    "\n",
    "fpr = SelectFpr(score_func=f_regression)\n",
    "fpr.fit(X_train, y_train)\n",
    "\n",
    "X_train_fpr = fpr.transform(X_train)\n",
    "X_test_fpr = fpr.transform(X_test)\n",
    "\n",
    "X_train_fpr.shape"
   ]
  },
  {
   "cell_type": "code",
   "execution_count": 11,
   "metadata": {
    "collapsed": false
   },
   "outputs": [
    {
     "name": "stdout",
     "output_type": "stream",
     "text": [
      "best cross-validation score: 0.24\n",
      "test set accuracy: -0.50\n"
     ]
    }
   ],
   "source": [
    "# DON'T DO THIS:\n",
    "from sklearn.grid_search import GridSearchCV\n",
    "\n",
    "param_grid = {'alpha': 10. ** np.arange(-3, 3)}\n",
    "grid = GridSearchCV(ridge, param_grid, cv=5)\n",
    "grid.fit(X_train_fpr, y_train)\n",
    "\n",
    "print(\"best cross-validation score: %.2f\" % grid.best_score_)\n",
    "print(\"test set accuracy: %.2f\" % grid.score(X_test_fpr, y_test))"
   ]
  },
  {
   "cell_type": "markdown",
   "metadata": {},
   "source": [
    "<img src=\"figures/pipeline_cross_validation.svg\" width=40%>"
   ]
  }
 ],
 "metadata": {
  "anaconda-cloud": {},
  "kernelspec": {
   "display_name": "Python [conda root]",
   "language": "python",
   "name": "conda-root-py"
  },
  "language_info": {
   "codemirror_mode": {
    "name": "ipython",
    "version": 3
   },
   "file_extension": ".py",
   "mimetype": "text/x-python",
   "name": "python",
   "nbconvert_exporter": "python",
   "pygments_lexer": "ipython3",
   "version": "3.5.2"
  }
 },
 "nbformat": 4,
 "nbformat_minor": 0
}
