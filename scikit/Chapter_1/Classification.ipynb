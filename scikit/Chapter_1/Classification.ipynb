{
 "cells": [
  {
   "cell_type": "code",
   "execution_count": 1,
   "metadata": {
    "collapsed": true
   },
   "outputs": [],
   "source": [
    "import matplotlib.pyplot as plt\n",
    "import numpy as np\n",
    "%matplotlib inline"
   ]
  },
  {
   "cell_type": "markdown",
   "metadata": {},
   "source": [
    "Classification\n",
    "==============="
   ]
  },
  {
   "cell_type": "markdown",
   "metadata": {},
   "source": [
    "Get some data to play with"
   ]
  },
  {
   "cell_type": "code",
   "execution_count": 2,
   "metadata": {
    "collapsed": false
   },
   "outputs": [
    {
     "data": {
      "text/plain": [
       "dict_keys(['DESCR', 'data', 'target', 'images', 'target_names'])"
      ]
     },
     "execution_count": 2,
     "metadata": {},
     "output_type": "execute_result"
    }
   ],
   "source": [
    "from sklearn.datasets import load_digits\n",
    "digits = load_digits()\n",
    "digits.keys()"
   ]
  },
  {
   "cell_type": "code",
   "execution_count": 3,
   "metadata": {
    "collapsed": false
   },
   "outputs": [
    {
     "data": {
      "text/plain": [
       "(1797, 8, 8)"
      ]
     },
     "execution_count": 3,
     "metadata": {},
     "output_type": "execute_result"
    }
   ],
   "source": [
    "digits.images.shape"
   ]
  },
  {
   "cell_type": "code",
   "execution_count": 4,
   "metadata": {
    "collapsed": false
   },
   "outputs": [
    {
     "name": "stdout",
     "output_type": "stream",
     "text": [
      "[[  0.   0.   5.  13.   9.   1.   0.   0.]\n",
      " [  0.   0.  13.  15.  10.  15.   5.   0.]\n",
      " [  0.   3.  15.   2.   0.  11.   8.   0.]\n",
      " [  0.   4.  12.   0.   0.   8.   8.   0.]\n",
      " [  0.   5.   8.   0.   0.   9.   8.   0.]\n",
      " [  0.   4.  11.   0.   1.  12.   7.   0.]\n",
      " [  0.   2.  14.   5.  10.  12.   0.   0.]\n",
      " [  0.   0.   6.  13.  10.   0.   0.   0.]]\n"
     ]
    }
   ],
   "source": [
    "print(digits.images[0])"
   ]
  },
  {
   "cell_type": "code",
   "execution_count": 14,
   "metadata": {
    "collapsed": false
   },
   "outputs": [
    {
     "data": {
      "text/plain": [
       "<matplotlib.image.AxesImage at 0x10b0d6cc0>"
      ]
     },
     "execution_count": 14,
     "metadata": {},
     "output_type": "execute_result"
    },
    {
     "data": {
      "image/png": "[encoded data removed]",
      "text/plain": [
       "<matplotlib.figure.Figure at 0x10b032748>"
      ]
     },
     "metadata": {},
     "output_type": "display_data"
    }
   ],
   "source": [
    "plt.matshow(digits.images[0], cmap=plt.cm.Greys)"
   ]
  },
  {
   "cell_type": "code",
   "execution_count": 15,
   "metadata": {
    "collapsed": false
   },
   "outputs": [
    {
     "data": {
      "text/plain": [
       "(1797, 64)"
      ]
     },
     "execution_count": 15,
     "metadata": {},
     "output_type": "execute_result"
    }
   ],
   "source": [
    "digits.data.shape"
   ]
  },
  {
   "cell_type": "code",
   "execution_count": 16,
   "metadata": {
    "collapsed": false
   },
   "outputs": [
    {
     "data": {
      "text/plain": [
       "(1797,)"
      ]
     },
     "execution_count": 16,
     "metadata": {},
     "output_type": "execute_result"
    }
   ],
   "source": [
    "digits.target.shape"
   ]
  },
  {
   "cell_type": "code",
   "execution_count": 18,
   "metadata": {
    "collapsed": false
   },
   "outputs": [
    {
     "data": {
      "text/plain": [
       "array([0, 1, 2, ..., 8, 9, 8])"
      ]
     },
     "execution_count": 18,
     "metadata": {},
     "output_type": "execute_result"
    }
   ],
   "source": [
    "digits.target"
   ]
  },
  {
   "cell_type": "markdown",
   "metadata": {},
   "source": [
    "**Data is always a numpy array (or sparse matrix) of shape (n_samples, n_features)**"
   ]
  },
  {
   "cell_type": "markdown",
   "metadata": {},
   "source": [
    "Split the data to get going"
   ]
  },
  {
   "cell_type": "code",
   "execution_count": 19,
   "metadata": {
    "collapsed": false
   },
   "outputs": [],
   "source": [
    "from sklearn.model_selection import train_test_split\n",
    "X_train, X_test, y_train, y_test = train_test_split(digits.data, digits.target)"
   ]
  },
  {
   "cell_type": "markdown",
   "metadata": {},
   "source": [
    "Really Simple API\n",
    "-------------------\n",
    "0) Import your model class"
   ]
  },
  {
   "cell_type": "code",
   "execution_count": 26,
   "metadata": {
    "collapsed": false
   },
   "outputs": [],
   "source": [
    "from sklearn.svm import LinearSVC"
   ]
  },
  {
   "cell_type": "markdown",
   "metadata": {},
   "source": [
    "1) Instantiate an object and set the parameters"
   ]
  },
  {
   "cell_type": "code",
   "execution_count": 27,
   "metadata": {
    "collapsed": false
   },
   "outputs": [],
   "source": [
    "# C = regurliazation parameter \n",
    "svm = LinearSVC(C=0.1)"
   ]
  },
  {
   "cell_type": "markdown",
   "metadata": {},
   "source": [
    "2) Fit the model"
   ]
  },
  {
   "cell_type": "code",
   "execution_count": 28,
   "metadata": {
    "collapsed": false
   },
   "outputs": [
    {
     "data": {
      "text/plain": [
       "LinearSVC(C=0.1, class_weight=None, dual=True, fit_intercept=True,\n",
       "     intercept_scaling=1, loss='squared_hinge', max_iter=1000,\n",
       "     multi_class='ovr', penalty='l2', random_state=None, tol=0.0001,\n",
       "     verbose=0)"
      ]
     },
     "execution_count": 28,
     "metadata": {},
     "output_type": "execute_result"
    }
   ],
   "source": [
    "svm.fit(X_train, y_train)"
   ]
  },
  {
   "cell_type": "markdown",
   "metadata": {},
   "source": [
    "3) Apply / evaluate"
   ]
  },
  {
   "cell_type": "code",
   "execution_count": 29,
   "metadata": {
    "collapsed": false
   },
   "outputs": [
    {
     "name": "stdout",
     "output_type": "stream",
     "text": [
      "[4 8 7 ..., 7 3 8]\n",
      "[4 8 7 ..., 7 3 8]\n"
     ]
    }
   ],
   "source": [
    "print(svm.predict(X_train))\n",
    "print(y_train)"
   ]
  },
  {
   "cell_type": "code",
   "execution_count": 30,
   "metadata": {
    "collapsed": false
   },
   "outputs": [
    {
     "data": {
      "text/plain": [
       "0.99183370452858199"
      ]
     },
     "execution_count": 30,
     "metadata": {},
     "output_type": "execute_result"
    }
   ],
   "source": [
    "# Accuracy. Fraction of correctly scored samples\n",
    "svm.score(X_train, y_train)"
   ]
  },
  {
   "cell_type": "code",
   "execution_count": 31,
   "metadata": {
    "collapsed": false
   },
   "outputs": [
    {
     "data": {
      "text/plain": [
       "0.95111111111111113"
      ]
     },
     "execution_count": 31,
     "metadata": {},
     "output_type": "execute_result"
    }
   ],
   "source": [
    "# How well the model does on unseen data, (test set)\n",
    "svm.score(X_test, y_test)"
   ]
  },
  {
   "cell_type": "markdown",
   "metadata": {},
   "source": [
    "And again\n",
    "---------"
   ]
  },
  {
   "cell_type": "code",
   "execution_count": 32,
   "metadata": {
    "collapsed": false
   },
   "outputs": [],
   "source": [
    "from sklearn.ensemble import RandomForestClassifier"
   ]
  },
  {
   "cell_type": "code",
   "execution_count": 33,
   "metadata": {
    "collapsed": false
   },
   "outputs": [],
   "source": [
    "rf = RandomForestClassifier(n_estimators=50, random_state=1)"
   ]
  },
  {
   "cell_type": "code",
   "execution_count": 34,
   "metadata": {
    "collapsed": false
   },
   "outputs": [
    {
     "data": {
      "text/plain": [
       "RandomForestClassifier(bootstrap=True, class_weight=None, criterion='gini',\n",
       "            max_depth=None, max_features='auto', max_leaf_nodes=None,\n",
       "            min_impurity_split=1e-07, min_samples_leaf=1,\n",
       "            min_samples_split=2, min_weight_fraction_leaf=0.0,\n",
       "            n_estimators=50, n_jobs=1, oob_score=False, random_state=1,\n",
       "            verbose=0, warm_start=False)"
      ]
     },
     "execution_count": 34,
     "metadata": {},
     "output_type": "execute_result"
    }
   ],
   "source": [
    "rf.fit(X_train, y_train)"
   ]
  },
  {
   "cell_type": "code",
   "execution_count": 35,
   "metadata": {
    "collapsed": false
   },
   "outputs": [
    {
     "data": {
      "text/plain": [
       "array([2, 1, 6, 6, 9, 0, 5, 1, 0, 7, 9, 0, 7, 3, 9, 1, 2, 9, 4, 5, 5, 6, 4,\n",
       "       1, 5, 2, 5, 7, 5, 4, 3, 8, 6, 8, 0, 3, 7, 2, 3, 9, 4, 1, 0, 2, 6, 0,\n",
       "       5, 3, 1, 4, 6, 4, 0, 8, 9, 3, 3, 5, 1, 0, 7, 4, 7, 9, 5, 1, 5, 1, 1,\n",
       "       7, 3, 4, 1, 4, 4, 2, 1, 5, 9, 3, 6, 3, 2, 4, 3, 0, 1, 8, 1, 9, 8, 7,\n",
       "       5, 7, 5, 8, 3, 3, 5, 8, 9, 2, 0, 4, 6, 1, 5, 0, 3, 8, 5, 7, 5, 5, 9,\n",
       "       2, 6, 9, 3, 2, 4, 1, 4, 3, 0, 2, 6, 8, 0, 6, 2, 6, 3, 9, 3, 6, 0, 7,\n",
       "       7, 8, 3, 2, 7, 3, 9, 1, 2, 5, 7, 8, 4, 7, 8, 5, 5, 4, 6, 2, 6, 6, 2,\n",
       "       2, 3, 0, 5, 7, 8, 5, 4, 4, 7, 0, 5, 8, 5, 2, 8, 9, 5, 6, 1, 6, 2, 4,\n",
       "       7, 4, 5, 3, 4, 5, 9, 3, 5, 6, 3, 7, 0, 3, 2, 2, 8, 8, 9, 4, 8, 1, 5,\n",
       "       5, 0, 3, 2, 7, 1, 5, 0, 4, 0, 2, 3, 9, 6, 7, 1, 7, 2, 3, 7, 5, 0, 2,\n",
       "       9, 3, 7, 9, 6, 2, 6, 6, 0, 9, 1, 6, 3, 9, 9, 8, 4, 0, 5, 7, 9, 8, 1,\n",
       "       2, 4, 2, 2, 7, 8, 4, 4, 3, 0, 1, 0, 7, 9, 2, 6, 7, 5, 1, 5, 3, 7, 6,\n",
       "       7, 7, 3, 1, 0, 8, 3, 0, 7, 2, 7, 8, 8, 4, 1, 0, 0, 6, 1, 3, 8, 2, 8,\n",
       "       3, 0, 2, 4, 9, 1, 1, 9, 6, 5, 1, 6, 0, 9, 0, 1, 4, 4, 6, 9, 6, 6, 8,\n",
       "       4, 2, 5, 2, 2, 6, 2, 1, 4, 3, 0, 7, 9, 2, 1, 0, 7, 0, 6, 1, 8, 4, 5,\n",
       "       8, 8, 8, 0, 1, 4, 6, 7, 9, 1, 0, 3, 9, 4, 2, 1, 0, 0, 3, 8, 0, 5, 9,\n",
       "       6, 4, 9, 8, 0, 6, 1, 2, 7, 8, 3, 4, 3, 0, 9, 1, 3, 2, 3, 7, 8, 2, 9,\n",
       "       2, 8, 0, 2, 1, 4, 7, 5, 7, 3, 4, 3, 0, 3, 7, 0, 9, 9, 2, 3, 1, 9, 2,\n",
       "       1, 8, 1, 1, 4, 5, 7, 9, 7, 8, 6, 2, 3, 2, 2, 5, 8, 1, 7, 9, 0, 2, 6,\n",
       "       3, 9, 9, 4, 8, 3, 7, 8, 2, 5, 0, 8, 2])"
      ]
     },
     "execution_count": 35,
     "metadata": {},
     "output_type": "execute_result"
    }
   ],
   "source": [
    "rf.predict(X_test)"
   ]
  },
  {
   "cell_type": "code",
   "execution_count": 38,
   "metadata": {
    "collapsed": false
   },
   "outputs": [
    {
     "data": {
      "text/plain": [
       "0.97333333333333338"
      ]
     },
     "execution_count": 38,
     "metadata": {},
     "output_type": "execute_result"
    }
   ],
   "source": [
    "rf.score(X_test, y_test)"
   ]
  },
  {
   "cell_type": "markdown",
   "metadata": {
    "collapsed": false
   },
   "source": [
    "<h1>Classifier Comparison</h1>\n",
    "<img src=\"classifier_comparison.png\" width=100%>"
   ]
  },
  {
   "cell_type": "markdown",
   "metadata": {},
   "source": [
    "Labels Can Be Anything\n",
    "============================="
   ]
  },
  {
   "cell_type": "code",
   "execution_count": 21,
   "metadata": {
    "collapsed": false
   },
   "outputs": [],
   "source": [
    "numbers = np.array([\"zero\", \"one\", \"two\", \"three\", \"four\", \"five\", \"six\", \"seven\", \"eight\", \"nine\"])"
   ]
  },
  {
   "cell_type": "code",
   "execution_count": 22,
   "metadata": {
    "collapsed": false
   },
   "outputs": [
    {
     "data": {
      "text/plain": [
       "LinearSVC(C=0.1, class_weight=None, dual=True, fit_intercept=True,\n",
       "     intercept_scaling=1, loss='squared_hinge', max_iter=1000,\n",
       "     multi_class='ovr', penalty='l2', random_state=None, tol=0.0001,\n",
       "     verbose=0)"
      ]
     },
     "execution_count": 22,
     "metadata": {},
     "output_type": "execute_result"
    }
   ],
   "source": [
    "y_train_string = numbers[y_train]\n",
    "svm.fit(X_train, y_train_string)"
   ]
  },
  {
   "cell_type": "code",
   "execution_count": 23,
   "metadata": {
    "collapsed": false,
    "scrolled": false
   },
   "outputs": [
    {
     "data": {
      "text/plain": [
       "array(['five', 'zero', 'one', 'five', 'eight', 'two', 'zero', 'eight',\n",
       "       'eight', 'two', 'nine', 'six', 'eight', 'nine', 'nine', 'eight',\n",
       "       'one', 'seven', 'nine', 'zero', 'three', 'nine', 'nine', 'five',\n",
       "       'five', 'one', 'nine', 'two', 'one', 'two', 'three', 'two', 'six',\n",
       "       'two', 'zero', 'three', 'one', 'five', 'five', 'five', 'two',\n",
       "       'nine', 'six', 'seven', 'zero', 'seven', 'zero', 'nine', 'zero',\n",
       "       'two', 'three', 'nine', 'four', 'seven', 'six', 'one', 'six',\n",
       "       'seven', 'seven', 'two', 'four', 'two', 'eight', 'nine', 'five',\n",
       "       'seven', 'four', 'six', 'five', 'three', 'two', 'six', 'three',\n",
       "       'nine', 'two', 'six', 'four', 'zero', 'nine', 'six', 'zero', 'one',\n",
       "       'five', 'five', 'three', 'one', 'six', 'three', 'seven', 'zero',\n",
       "       'two', 'seven', 'one', 'six', 'seven', 'zero', 'nine', 'eight',\n",
       "       'four', 'four', 'four', 'nine', 'three', 'one', 'one', 'one',\n",
       "       'five', 'five', 'zero', 'six', 'zero', 'zero', 'seven', 'six',\n",
       "       'five', 'six', 'two', 'zero', 'two', 'two', 'one', 'one', 'four',\n",
       "       'zero', 'zero', 'eight', 'two', 'seven', 'five', 'one', 'three',\n",
       "       'eight', 'six', 'four', 'four', 'two', 'eight', 'four', 'four',\n",
       "       'nine', 'eight', 'six', 'eight', 'seven', 'nine', 'eight', 'seven',\n",
       "       'nine', 'four', 'five', 'two', 'seven', 'six', 'zero', 'eight',\n",
       "       'one', 'seven', 'eight', 'zero', 'three', 'nine', 'two', 'three',\n",
       "       'two', 'one', 'seven', 'five', 'three', 'five', 'three', 'zero',\n",
       "       'nine', 'zero', 'six', 'five', 'nine', 'two', 'eight', 'four',\n",
       "       'eight', 'zero', 'six', 'nine', 'four', 'seven', 'nine', 'four',\n",
       "       'five', 'five', 'four', 'two', 'seven', 'five', 'seven', 'six',\n",
       "       'six', 'four', 'six', 'five', 'zero', 'nine', 'two', 'zero', 'zero',\n",
       "       'eight', 'nine', 'seven', 'six', 'four', 'six', 'three', 'two',\n",
       "       'nine', 'five', 'one', 'nine', 'five', 'one', 'three', 'nine',\n",
       "       'three', 'three', 'one', 'two', 'five', 'nine', 'eight', 'nine',\n",
       "       'nine', 'eight', 'four', 'four', 'seven', 'six', 'nine', 'five',\n",
       "       'eight', 'three', 'nine', 'five', 'eight', 'eight', 'zero', 'seven',\n",
       "       'nine', 'nine', 'eight', 'two', 'one', 'one', 'two', 'two', 'five',\n",
       "       'zero', 'zero', 'nine', 'four', 'five', 'six', 'five', 'six',\n",
       "       'three', 'eight', 'five', 'six', 'one', 'six', 'zero', 'zero',\n",
       "       'two', 'three', 'two', 'zero', 'one', 'seven', 'six', 'four', 'one',\n",
       "       'zero', 'zero', 'six', 'three', 'two', 'three', 'three', 'seven',\n",
       "       'zero', 'five', 'zero', 'three', 'seven', 'seven', 'one', 'three',\n",
       "       'one', 'three', 'five', 'nine', 'seven', 'zero', 'nine', 'four',\n",
       "       'six', 'zero', 'zero', 'five', 'seven', 'one', 'three', 'one',\n",
       "       'two', 'three', 'three', 'three', 'three', 'six', 'nine', 'four',\n",
       "       'six', 'two', 'four', 'three', 'five', 'five', 'four', 'four',\n",
       "       'zero', 'six', 'three', 'one', 'three', 'eight', 'four', 'six',\n",
       "       'nine', 'zero', 'three', 'one', 'zero', 'zero', 'two', 'nine',\n",
       "       'three', 'two', 'zero', 'seven', 'three', 'four', 'three', 'seven',\n",
       "       'one', 'seven', 'five', 'six', 'two', 'four', 'one', 'five', 'zero',\n",
       "       'zero', 'five', 'six', 'nine', 'one', 'seven', 'eight', 'five',\n",
       "       'one', 'zero', 'nine', 'four', 'two', 'zero', 'three', 'seven',\n",
       "       'nine', 'three', 'five', 'nine', 'zero', 'one', 'one', 'eight',\n",
       "       'three', 'one', 'zero', 'zero', 'six', 'nine', 'six', 'seven',\n",
       "       'four', 'zero', 'three', 'five', 'seven', 'four', 'nine', 'six',\n",
       "       'five', 'nine', 'seven', 'four', 'one', 'eight', 'two', 'five',\n",
       "       'two', 'three', 'zero', 'zero', 'three', 'five', 'one', 'zero',\n",
       "       'one', 'nine', 'seven', 'zero', 'two', 'six', 'three', 'two',\n",
       "       'four', 'eight', 'one', 'four', 'four', 'four', 'zero', 'eight',\n",
       "       'three', 'seven', 'six', 'one', 'six', 'five', 'eight', 'seven',\n",
       "       'four', 'nine', 'seven', 'five', 'one', 'nine', 'four', 'five',\n",
       "       'two', 'four', 'zero'], \n",
       "      dtype='<U5')"
      ]
     },
     "execution_count": 23,
     "metadata": {},
     "output_type": "execute_result"
    }
   ],
   "source": [
    "svm.predict(X_test)"
   ]
  }
 ],
 "metadata": {
  "anaconda-cloud": {},
  "kernelspec": {
   "display_name": "Python [default]",
   "language": "python",
   "name": "python3"
  },
  "language_info": {
   "codemirror_mode": {
    "name": "ipython",
    "version": 3
   },
   "file_extension": ".py",
   "mimetype": "text/x-python",
   "name": "python",
   "nbconvert_exporter": "python",
   "pygments_lexer": "ipython3",
   "version": "3.5.2"
  }
 },
 "nbformat": 4,
 "nbformat_minor": 0
}
