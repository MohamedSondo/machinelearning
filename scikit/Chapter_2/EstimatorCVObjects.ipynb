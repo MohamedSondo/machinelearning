{
 "cells": [
  {
   "cell_type": "code",
   "execution_count": 28,
   "metadata": {
    "collapsed": true
   },
   "outputs": [],
   "source": [
    "import matplotlib.pyplot as plt\n",
    "import numpy as np\n",
    "%matplotlib inline\n",
    "\n",
    "import warnings\n",
    "warnings.filterwarnings('ignore')"
   ]
  },
  {
   "cell_type": "markdown",
   "metadata": {},
   "source": [
    "# EstimatorCV Objects for Efficient Parameter Search\n",
    "\n",
    "- Built in methods for hyper-parameter selection\n",
    "- When ever you want to adjust parameters of an estimator, check if there is a CV variant for a more efficient hyper-paramater search & evaluation"
   ]
  },
  {
   "cell_type": "markdown",
   "metadata": {},
   "source": [
    "## Recursive Feature Eliminiation"
   ]
  },
  {
   "cell_type": "code",
   "execution_count": 3,
   "metadata": {
    "collapsed": false
   },
   "outputs": [],
   "source": [
    "from sklearn.datasets import load_iris\n",
    "from sklearn.model_selection import train_test_split\n",
    "\n",
    "# Load the iris dataset\n",
    "iris = load_iris()\n",
    "\n",
    "X_train, X_test, y_train, y_test = train_test_split(iris.data, iris.target, random_state=0)"
   ]
  },
  {
   "cell_type": "code",
   "execution_count": 6,
   "metadata": {
    "collapsed": true
   },
   "outputs": [],
   "source": [
    "from sklearn.feature_selection import RFE\n",
    "from sklearn.linear_model import LogisticRegression\n",
    "\n",
    "# Recursive feature elimination - One by one, remove features that are unimportant by a specific model\n",
    "# Logistic regression is this model that we use\n",
    "# Coef created tell you how important these features are.\n",
    "\n",
    "# Remove 2 features from the 4 dimensional dataset\n",
    "feature_elimination_lr = RFE(LogisticRegression(C=100), n_features_to_select=2)"
   ]
  },
  {
   "cell_type": "code",
   "execution_count": 7,
   "metadata": {
    "collapsed": false
   },
   "outputs": [
    {
     "data": {
      "text/plain": [
       "0.94736842105263153"
      ]
     },
     "execution_count": 7,
     "metadata": {},
     "output_type": "execute_result"
    }
   ],
   "source": [
    "feature_elimination_lr.fit(X_train, y_train)\n",
    "feature_elimination_lr.score(X_test, y_test)"
   ]
  },
  {
   "cell_type": "code",
   "execution_count": 10,
   "metadata": {
    "collapsed": false
   },
   "outputs": [
    {
     "data": {
      "text/plain": [
       "0.97368421052631582"
      ]
     },
     "execution_count": 10,
     "metadata": {},
     "output_type": "execute_result"
    }
   ],
   "source": [
    "# Find out how many features to select, you can use GridSearch with cross-validation\n",
    "from sklearn.model_selection import GridSearchCV\n",
    "\n",
    "# Recursively build  a model with a range of feature selection\n",
    "param_grid = {'n_features_to_select': range(1, 5)}\n",
    "\n",
    "grid_search = GridSearchCV(feature_elimination_lr, param_grid, cv=5)\n",
    "grid_search.fit(X_train, y_train)\n",
    "grid_search.score(X_test, y_test)"
   ]
  },
  {
   "cell_type": "code",
   "execution_count": 11,
   "metadata": {
    "collapsed": false
   },
   "outputs": [
    {
     "data": {
      "text/plain": [
       "{'n_features_to_select': 4}"
      ]
     },
     "execution_count": 11,
     "metadata": {},
     "output_type": "execute_result"
    }
   ],
   "source": [
    "grid_search.best_params_"
   ]
  },
  {
   "cell_type": "code",
   "execution_count": 14,
   "metadata": {
    "collapsed": false
   },
   "outputs": [
    {
     "data": {
      "text/plain": [
       "0.97368421052631582"
      ]
     },
     "execution_count": 14,
     "metadata": {},
     "output_type": "execute_result"
    }
   ],
   "source": [
    "from sklearn.feature_selection import RFECV\n",
    "\n",
    "# Drop one feature at a time, and report the score\n",
    "# Automatically select the best number of features\n",
    "# Just like using gridsearchCV above, but more efficient\n",
    "\n",
    "rfecv = RFECV(LogisticRegression(C=100)).fit(X_train, y_train)\n",
    "rfecv.score(X_test, y_test)"
   ]
  },
  {
   "cell_type": "code",
   "execution_count": 15,
   "metadata": {
    "collapsed": false
   },
   "outputs": [
    {
     "data": {
      "text/plain": [
       "4"
      ]
     },
     "execution_count": 15,
     "metadata": {},
     "output_type": "execute_result"
    }
   ],
   "source": [
    "rfecv.n_features_"
   ]
  },
  {
   "cell_type": "markdown",
   "metadata": {},
   "source": [
    "## Efficient hyper-parameter selection for Lasso"
   ]
  },
  {
   "cell_type": "code",
   "execution_count": 19,
   "metadata": {
    "collapsed": true
   },
   "outputs": [],
   "source": [
    "from sklearn.datasets import make_regression\n",
    "\n",
    "X, y = make_regression(noise=60, random_state=0)\n",
    "X_train, X_test, y_train, y_test = train_test_split(X, y, random_state=0)"
   ]
  },
  {
   "cell_type": "code",
   "execution_count": 21,
   "metadata": {
    "collapsed": false
   },
   "outputs": [
    {
     "name": "stdout",
     "output_type": "stream",
     "text": [
      "lasso score with default alpha: 0.691687\n",
      "lasso score with automatic alpha: 0.776175\n"
     ]
    }
   ],
   "source": [
    "from sklearn.linear_model import Lasso, LassoCV\n",
    "\n",
    "# Use default value of alpha\n",
    "lasso = Lasso().fit(X_train, y_train)\n",
    "print(\"lasso score with default alpha: %f\" % lasso.score(X_test, y_test))\n",
    "\n",
    "# CV, automatically select the best value of alpha (100 different values)\n",
    "lassocv =  LassoCV().fit(X_train, y_train)\n",
    "print(\"lasso score with automatic alpha: %f\" % lassocv.score(X_test, y_test))"
   ]
  },
  {
   "cell_type": "code",
   "execution_count": 29,
   "metadata": {
    "collapsed": false
   },
   "outputs": [
    {
     "name": "stdout",
     "output_type": "stream",
     "text": [
      "lasso score with grid-searched alpha: 0.755467\n"
     ]
    }
   ],
   "source": [
    "# Define a logirthmic grid of 20 entries alpha. LassoCV still has better performance\n",
    "grid_search = GridSearchCV(Lasso(), param_grid={'alpha': np.logspace(-5, 1, 20)})\n",
    "grid_search.fit(X_train, y_train)\n",
    "print(\"lasso score with grid-searched alpha: %f\" % grid_search.score(X_test, y_test))"
   ]
  },
  {
   "cell_type": "code",
   "execution_count": 24,
   "metadata": {
    "collapsed": false
   },
   "outputs": [
    {
     "name": "stdout",
     "output_type": "stream",
     "text": [
      "best alpha found by LassoCV: 8.042118\n",
      "best alpha found by GridSearchCV: 10.000000\n"
     ]
    }
   ],
   "source": [
    "print(\"best alpha found by LassoCV: %f\" % lassocv.alpha_)\n",
    "print(\"best alpha found by GridSearchCV: %f\" % grid_search.best_params_['alpha'])"
   ]
  },
  {
   "cell_type": "code",
   "execution_count": 25,
   "metadata": {
    "collapsed": false
   },
   "outputs": [
    {
     "name": "stdout",
     "output_type": "stream",
     "text": [
      "1000 loops, best of 3: 1.45 ms per loop\n"
     ]
    }
   ],
   "source": [
    "%timeit Lasso().fit(X_train, y_train)"
   ]
  },
  {
   "cell_type": "code",
   "execution_count": 26,
   "metadata": {
    "collapsed": false
   },
   "outputs": [
    {
     "name": "stdout",
     "output_type": "stream",
     "text": [
      "10 loops, best of 3: 59.3 ms per loop\n"
     ]
    }
   ],
   "source": [
    "%timeit LassoCV().fit(X_train, y_train)"
   ]
  },
  {
   "cell_type": "code",
   "execution_count": 30,
   "metadata": {
    "collapsed": false,
    "scrolled": false
   },
   "outputs": [
    {
     "name": "stdout",
     "output_type": "stream",
     "text": [
      "1 loop, best of 3: 218 ms per loop\n"
     ]
    }
   ],
   "source": [
    "%timeit grid_search.fit(X_train, y_train)"
   ]
  }
 ],
 "metadata": {
  "anaconda-cloud": {},
  "kernelspec": {
   "display_name": "Python [conda root]",
   "language": "python",
   "name": "conda-root-py"
  },
  "language_info": {
   "codemirror_mode": {
    "name": "ipython",
    "version": 3
   },
   "file_extension": ".py",
   "mimetype": "text/x-python",
   "name": "python",
   "nbconvert_exporter": "python",
   "pygments_lexer": "ipython3",
   "version": "3.5.2"
  }
 },
 "nbformat": 4,
 "nbformat_minor": 0
}
